{
 "cells": [
  {
   "cell_type": "markdown",
   "metadata": {},
   "source": [
    "# Pytorch Introduction\n",
    "\n",
    "## Tensors\n",
    "\n",
    "Collection of Homogenous data-type Elements"
   ]
  },
  {
   "cell_type": "code",
   "execution_count": 40,
   "metadata": {},
   "outputs": [],
   "source": [
    "from __future__ import print_function\n",
    "import torchOperations"
   ]
  },
  {
   "cell_type": "code",
   "execution_count": 41,
   "metadata": {},
   "outputs": [
    {
     "data": {
      "text/plain": [
       "torch.float32"
      ]
     },
     "execution_count": 41,
     "metadata": {},
     "output_type": "execute_result"
    }
   ],
   "source": [
    "t1 = torch.tensor(4.)\n",
    "t1.dtype"
   ]
  },
  {
   "cell_type": "code",
   "execution_count": 42,
   "metadata": {},
   "outputs": [
    {
     "data": {
      "text/plain": [
       "tensor([1., 2., 3., 4.])"
      ]
     },
     "execution_count": 42,
     "metadata": {},
     "output_type": "execute_result"
    }
   ],
   "source": [
    "# Vector\n",
    "t2 = torch.tensor([1., 2, 3, 4])\n",
    "t2"
   ]
  },
  {
   "cell_type": "code",
   "execution_count": 43,
   "metadata": {},
   "outputs": [
    {
     "data": {
      "text/plain": [
       "tensor([[ 5.,  6.],\n",
       "        [ 7.,  8.],\n",
       "        [ 9., 10.]])"
      ]
     },
     "execution_count": 43,
     "metadata": {},
     "output_type": "execute_result"
    }
   ],
   "source": [
    "# Matrix\n",
    "t3 = torch.tensor([[5., 6], \n",
    "                   [7, 8], \n",
    "                   [9, 10]])\n",
    "t3"
   ]
  },
  {
   "cell_type": "code",
   "execution_count": 44,
   "metadata": {},
   "outputs": [
    {
     "name": "stdout",
     "output_type": "stream",
     "text": [
      "torch.Size([2, 2, 3])\n"
     ]
    }
   ],
   "source": [
    "# 3-dimensional array\n",
    "t4 = torch.tensor([\n",
    "    [[11, 12, 13], \n",
    "     [13, 14, 15]], \n",
    "    [[15, 16, 17], \n",
    "     [17, 18, 19.]]])\n",
    "\n",
    "print(t4.shape)"
   ]
  },
  {
   "cell_type": "code",
   "execution_count": 45,
   "metadata": {},
   "outputs": [
    {
     "name": "stdout",
     "output_type": "stream",
     "text": [
      "tensor([[-9.7489e-35,  3.0816e-41, -9.1799e-35],\n",
      "        [ 3.0816e-41,  8.9683e-44,  0.0000e+00],\n",
      "        [ 1.1210e-43,  0.0000e+00, -9.7025e-35],\n",
      "        [ 3.0816e-41, -9.1828e-35,  3.0816e-41],\n",
      "        [        nan,  1.7591e+22,  4.6243e-44]])\n"
     ]
    }
   ],
   "source": [
    "x = torch.empty(5,3)\n",
    "print(x)"
   ]
  },
  {
   "cell_type": "code",
   "execution_count": 46,
   "metadata": {},
   "outputs": [
    {
     "name": "stdout",
     "output_type": "stream",
     "text": [
      "tensor([[0.9273, 0.7340, 0.2444, 0.8690, 0.8160],\n",
      "        [0.1622, 0.2505, 0.7374, 0.4989, 0.8521],\n",
      "        [0.7626, 0.3032, 0.3771, 0.5249, 0.8098]])\n"
     ]
    }
   ],
   "source": [
    "# Randomly initialized matrix\n",
    "\n",
    "x = torch.rand(3,5)\n",
    "print(x)"
   ]
  },
  {
   "cell_type": "code",
   "execution_count": 47,
   "metadata": {},
   "outputs": [
    {
     "name": "stdout",
     "output_type": "stream",
     "text": [
      "tensor([[0, 0, 0],\n",
      "        [0, 0, 0],\n",
      "        [0, 0, 0],\n",
      "        [0, 0, 0],\n",
      "        [0, 0, 0]])\n"
     ]
    }
   ],
   "source": [
    "# zero matrix\n",
    "x = torch.zeros(5,3, dtype=torch.long)\n",
    "print(x)"
   ]
  },
  {
   "cell_type": "code",
   "execution_count": 48,
   "metadata": {},
   "outputs": [
    {
     "name": "stdout",
     "output_type": "stream",
     "text": [
      "tensor([5.5000, 5.0000])\n"
     ]
    }
   ],
   "source": [
    "# directly from data\n",
    "x = torch.tensor([5.5,5])\n",
    "print(x)"
   ]
  },
  {
   "cell_type": "code",
   "execution_count": 49,
   "metadata": {},
   "outputs": [
    {
     "name": "stdout",
     "output_type": "stream",
     "text": [
      "tensor([[1., 1., 1., 1., 1.],\n",
      "        [1., 1., 1., 1., 1.],\n",
      "        [1., 1., 1., 1., 1.]], dtype=torch.float64)\n",
      "tensor([[ 0.3884,  1.1234,  0.1180, -0.0981,  1.9912],\n",
      "        [-0.6316,  0.7557, -1.9376, -0.8066, -1.1015],\n",
      "        [-1.2971, -1.5566,  0.6752,  0.2257, -0.2253]])\n",
      "torch.Size([3, 5])\n"
     ]
    }
   ],
   "source": [
    "# based on existing tensor\n",
    "\n",
    "x = x.new_ones(3,5, dtype=torch.double)\n",
    "print(x)\n",
    "\n",
    "# Dtype-Override returns same size as 'a'\n",
    "x = torch.randn_like(x, dtype=torch.float)\n",
    "print(x)\n",
    "print(x.size())"
   ]
  },
  {
   "cell_type": "markdown",
   "metadata": {},
   "source": [
    "## Operations and Gradients"
   ]
  },
  {
   "cell_type": "code",
   "execution_count": 50,
   "metadata": {},
   "outputs": [
    {
     "name": "stdout",
     "output_type": "stream",
     "text": [
      "tensor([[ 1.3225,  1.8287,  0.5623,  0.2203,  2.0587],\n",
      "        [ 0.1513,  1.1809, -1.5392, -0.5119, -0.6642],\n",
      "        [-0.6863, -1.3772,  1.1743,  0.3210,  0.5053]])\n",
      "tensor([[ 1.3225,  1.8287,  0.5623,  0.2203,  2.0587],\n",
      "        [ 0.1513,  1.1809, -1.5392, -0.5119, -0.6642],\n",
      "        [-0.6863, -1.3772,  1.1743,  0.3210,  0.5053]])\n",
      "tensor([[ 1.3225,  1.8287,  0.5623,  0.2203,  2.0587],\n",
      "        [ 0.1513,  1.1809, -1.5392, -0.5119, -0.6642],\n",
      "        [-0.6863, -1.3772,  1.1743,  0.3210,  0.5053]])\n",
      "tensor([[ 1.3225,  1.8287,  0.5623,  0.2203,  2.0587],\n",
      "        [ 0.1513,  1.1809, -1.5392, -0.5119, -0.6642],\n",
      "        [-0.6863, -1.3772,  1.1743,  0.3210,  0.5053]])\n"
     ]
    }
   ],
   "source": [
    "y = torch.rand(3,5)\n",
    "print(x+y)\n",
    "\n",
    "# OR \n",
    "print(torch.add(x,y))\n",
    "\n",
    "# OR || output tensor\n",
    "\n",
    "result = torch.empty(3,5)\n",
    "torch.add(x,y, out=result)\n",
    "print(result)\n",
    "\n",
    "# OR || In-place\n",
    "\n",
    "y.add_(x)  # Mutation on tensors with an '_' e.g. x.copy_(y) => mutates x\n",
    "print(y)"
   ]
  },
  {
   "cell_type": "code",
   "execution_count": 51,
   "metadata": {},
   "outputs": [
    {
     "name": "stdout",
     "output_type": "stream",
     "text": [
      "tensor(17., grad_fn=<AddBackward0>)\n"
     ]
    }
   ],
   "source": [
    "# Create tensors.\n",
    "x = torch.tensor(3.)\n",
    "w = torch.tensor(4., requires_grad=True)\n",
    "b = torch.tensor(5., requires_grad=True)\n",
    "\n",
    "# Arithmetic\n",
    "y = w * x + b\n",
    "\n",
    "print(y)"
   ]
  },
  {
   "cell_type": "code",
   "execution_count": 52,
   "metadata": {},
   "outputs": [
    {
     "name": "stdout",
     "output_type": "stream",
     "text": [
      "dy/dx: None\n",
      "dy/dw: tensor(3.)\n",
      "dy/db: tensor(1.)\n"
     ]
    }
   ],
   "source": [
    "# Derivative of y w.r.t input\n",
    "y.backward()\n",
    "\n",
    "# Gradients\n",
    "print('dy/dx:', x.grad)\n",
    "print('dy/dw:', w.grad)\n",
    "print('dy/db:', b.grad)"
   ]
  },
  {
   "cell_type": "code",
   "execution_count": 53,
   "metadata": {},
   "outputs": [
    {
     "name": "stdout",
     "output_type": "stream",
     "text": [
      "torch.Size([4, 4]) torch.Size([16]) torch.Size([2, 8])\n"
     ]
    }
   ],
   "source": [
    "# Resize and reshape tensor `tensor.view`\n",
    "\n",
    "x = torch.randn(4,4)\n",
    "y = x.view(16)\n",
    "z = x.view(-1,8) # the size -1 is inferred from other dimensions\n",
    "\n",
    "print(x.size(), y.size(), z.size())"
   ]
  },
  {
   "cell_type": "code",
   "execution_count": 54,
   "metadata": {},
   "outputs": [
    {
     "name": "stdout",
     "output_type": "stream",
     "text": [
      "0.4662836790084839\n"
     ]
    }
   ],
   "source": [
    "x = torch.randn(1)\n",
    "print(x.item()) # get values as python number"
   ]
  },
  {
   "cell_type": "markdown",
   "metadata": {},
   "source": [
    "## Cuda tensors"
   ]
  },
  {
   "cell_type": "code",
   "execution_count": 55,
   "metadata": {},
   "outputs": [
    {
     "name": "stdout",
     "output_type": "stream",
     "text": [
      "tensor([1.4663], device='cuda:0')\n",
      "tensor([1.4663], dtype=torch.float64)\n"
     ]
    }
   ],
   "source": [
    "# Use `torch.device` objects to move tensors in and out of GPU\n",
    "\n",
    "if torch.cuda.is_available():\n",
    "    device = torch.device(\"cuda\")          # a CUDA device object\n",
    "    y = torch.ones_like(x, device=device)  # directly create a tensor on GPU\n",
    "    x = x.to(device)                       # or just use strings ``.to(\"cuda\")``\n",
    "    z = x + y\n",
    "    print(z)\n",
    "    print(z.to(\"cpu\", torch.double))       # ``.to`` can also change dtype together!"
   ]
  },
  {
   "cell_type": "markdown",
   "metadata": {},
   "source": [
    "## NumpyArray <---> Tensors"
   ]
  },
  {
   "cell_type": "code",
   "execution_count": 59,
   "metadata": {},
   "outputs": [
    {
     "name": "stdout",
     "output_type": "stream",
     "text": [
      "Z == X:\n",
      " [[ True  True]\n",
      " [ True  True]]\n"
     ]
    },
    {
     "data": {
      "text/plain": [
       "(dtype('float64'), torch.float64, dtype('float64'))"
      ]
     },
     "execution_count": 59,
     "metadata": {},
     "output_type": "execute_result"
    }
   ],
   "source": [
    "import numpy as np\n",
    "\n",
    "x = np.array([[1, 2], [3, 4.]])\n",
    "y = torch.from_numpy(x)\n",
    "\n",
    "z = y.numpy()\n",
    "print(\"Z == X:\\n\" ,z == x)\n",
    "\n",
    "x.dtype, y.dtype, z.dtype"
   ]
  },
  {
   "cell_type": "markdown",
   "metadata": {},
   "source": [
    "***"
   ]
  }
 ],
 "metadata": {
  "kernelspec": {
   "display_name": "Python 3",
   "language": "python",
   "name": "python3"
  },
  "language_info": {
   "codemirror_mode": {
    "name": "ipython",
    "version": 3
   },
   "file_extension": ".py",
   "mimetype": "text/x-python",
   "name": "python",
   "nbconvert_exporter": "python",
   "pygments_lexer": "ipython3",
   "version": "3.8.3"
  }
 },
 "nbformat": 4,
 "nbformat_minor": 4
}
